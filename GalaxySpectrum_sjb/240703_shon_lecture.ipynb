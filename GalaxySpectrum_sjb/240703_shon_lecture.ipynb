{
 "cells": [
  {
   "cell_type": "code",
   "execution_count": 72,
   "metadata": {},
   "outputs": [],
   "source": [
    "#!/usr/bin/env python\n",
    "# -*- coding: utf-8 -*-\n",
    "#\n",
    "# @Author: Mingyeong Yang (mmingyeong@kasi.re.kr)\n",
    "# @Date: 2024-07-03\n",
    "# @Filename: 240703_shon_lecture.ipynb\n",
    "# This project was conducted at the 2024 KIAS Summer School on Extragalactics and Cosmology."
   ]
  },
  {
   "cell_type": "code",
   "execution_count": 73,
   "metadata": {},
   "outputs": [],
   "source": [
    "from time import perf_counter as clock\n",
    "from pathlib import Path\n",
    "from urllib import request\n",
    "import glob\n",
    "\n",
    "import numpy as np\n",
    "import matplotlib.pyplot as plt\n",
    "from astropy.io import fits\n",
    "\n",
    "from ppxf.ppxf import ppxf\n",
    "import ppxf.ppxf_util as util\n",
    "import ppxf.sps_util as lib"
   ]
  },
  {
   "cell_type": "code",
   "execution_count": 74,
   "metadata": {},
   "outputs": [],
   "source": [
    "# Basic pacakges \n",
    "import pandas as pd\n",
    "import numpy  as np\n",
    "import datetime\n",
    "\n",
    "import os \n",
    "import h5py\n",
    "\n",
    "from   pathlib import Path\n",
    "from   time    import perf_counter as clock\n",
    "\n",
    "# astropy\n",
    "from   astropy.table import Table\n",
    "import astropy.units as u\n",
    "from   astropy.coordinates import SkyCoord\n",
    "\n",
    "# For Reading and manipulating spectra\n",
    "from   astropy.io   import fits\n",
    "from   scipy.signal import savgol_filter\n",
    "\n",
    "# For pPXF\n",
    "from   ppxf.ppxf      import ppxf\n",
    "import ppxf.ppxf_util as util\n",
    "import ppxf.sps_util  as lib\n",
    "\n",
    "## For plotting \n",
    "import matplotlib        as mpl\n",
    "import matplotlib.pyplot as plt\n",
    "import matplotlib.ticker as ticker\n",
    "from   matplotlib        import rc\n",
    "from   matplotlib        import cm\n",
    "from   matplotlib.colors import LogNorm\n",
    "from   matplotlib.font_manager import FontProperties\n",
    "import matplotlib.colors as mcolors"
   ]
  },
  {
   "cell_type": "code",
   "execution_count": 75,
   "metadata": {},
   "outputs": [],
   "source": [
    "# A Simple subroutine for checking if you have spectra in your directory\n",
    "def file_exists(directory, filename, use_pathlib=False):\n",
    "    if use_pathlib:\n",
    "        directory_path = Path(directory)\n",
    "        file_path = directory_path / filename\n",
    "        return file_path.exists()\n",
    "    else:\n",
    "        file_path = os.path.join(directory, filename)\n",
    "        return os.path.exists(file_path)"
   ]
  },
  {
   "cell_type": "markdown",
   "metadata": {},
   "source": [
    "### 계산에 필요한 물리상수를 정의함."
   ]
  },
  {
   "cell_type": "code",
   "execution_count": 76,
   "metadata": {},
   "outputs": [],
   "source": [
    "# Some numerical constants \n",
    "c    = 2.99792e5\n",
    "tol  = 1./3600.\n",
    "dtor = np.pi / 180.\n",
    "\n",
    "# For smoothing the spectra\n",
    "window_length = 21 # Window length must be a positive odd integer\n",
    "polyorder     =  3 # Polynomial order must be less than window_length\n",
    "\n",
    "# Some common parameters for plotting\n",
    "LM = 0.16\n",
    "RM = 0.95\n",
    "BM = 0.13\n",
    "TM = 0.97\n",
    "\n",
    "plt.rc('axes',  labelsize=35)\n",
    "plt.rc('xtick', labelsize=25)\n",
    "plt.rc('ytick', labelsize=25)\n",
    "\n",
    "plt.rcParams['axes.linewidth'] = 3\n",
    "plt.rcParams['xtick.top']   = True\n",
    "plt.rcParams['ytick.right'] = True\n",
    "\n",
    "tick_typs  = ['xtick', 'ytick']\n",
    "tick_items = ['direction', 'major.size', 'major.width', 'minor.visible', 'minor.size', 'minor.width']\n",
    "tick_vals  = ['in', 12, 2, True, 6, 2]\n",
    "\n",
    "for tick_typ in tick_typs:\n",
    "    for i, tick_item in enumerate(tick_items):\n",
    "        plt.rcParams[tick_typ + '.' + tick_item] = tick_vals[i]"
   ]
  },
  {
   "cell_type": "code",
   "execution_count": 77,
   "metadata": {},
   "outputs": [],
   "source": [
    "# Working directories\n",
    "## Choose your own directory\n",
    "spedir = \"C:/Users/mming/Desktop/240701_KIAS_Summerschool_외부은하와우주론여름학교/GalaxySpectrum_손주비/SDSS/\""
   ]
  },
  {
   "cell_type": "code",
   "execution_count": 78,
   "metadata": {},
   "outputs": [
    {
     "name": "stderr",
     "output_type": "stream",
     "text": [
      "C:\\Users\\mming\\AppData\\Local\\Temp\\ipykernel_33496\\534442019.py:2: DtypeWarning: Columns (1) have mixed types. Specify dtype option on import or set low_memory=False.\n",
      "  tab   = pd.read_csv('F2_test.csv')\n"
     ]
    },
    {
     "name": "stdout",
     "output_type": "stream",
     "text": [
      "566\n"
     ]
    }
   ],
   "source": [
    "# READ the F2 table\n",
    "tab   = pd.read_csv('F2_test.csv')\n",
    "narr  = len(tab['OBJID'])\n",
    "petrm = tab['PETROMAG_R'] - tab['EXTINCTION_R']\n",
    "\n",
    "sel = (petrm > 14.5) & (petrm < 17.5) & (tab['Z_SDSS_SPECFILE'] != 'NN')\n",
    "dum =  petrm[sel]\n",
    "print(len(dum))\n",
    "\n",
    "f2coords = SkyCoord(ra=tab['RA'], dec=tab['DEC'], unit=(u.deg, u.deg))"
   ]
  },
  {
   "cell_type": "code",
   "execution_count": 79,
   "metadata": {},
   "outputs": [
    {
     "name": "stdout",
     "output_type": "stream",
     "text": [
      "4\n",
      "14447    spec-1938-53379-0110.fits\n",
      "61678    spec-1937-53388-0453.fits\n",
      "64248    spec-1938-53379-0053.fits\n",
      "82275    spec-1937-53388-0577.fits\n",
      "Name: Z_SDSS_SPECFILE, dtype: object\n",
      "0.0627988576889038 4.395649739308283e-05\n"
     ]
    }
   ],
   "source": [
    "# Select the brightest galaxy spectrum\n",
    "sel = (tab['Z_SDSS_SPECFILE'] != 'NN') & (petrm > 15.0) & (petrm < 16.0) & (tab['Z'] > 0.05) & (tab['Z'] < 0.10)\n",
    "dum =  petrm[sel]\n",
    "print(len(dum))\n",
    "print(tab['Z_SDSS_SPECFILE'][sel])\n",
    "print(tab['Z'][64248], tab['ZERR'][64248])"
   ]
  },
  {
   "cell_type": "code",
   "execution_count": 80,
   "metadata": {},
   "outputs": [
    {
     "data": {
      "text/plain": [
       "'C:/Users/mming/Desktop/240701_KIAS_Summerschool_외부은하와우주론여름학교/GalaxySpectrum_손주비/SDSS/'"
      ]
     },
     "execution_count": 80,
     "metadata": {},
     "output_type": "execute_result"
    }
   ],
   "source": [
    "spedir"
   ]
  },
  {
   "cell_type": "markdown",
   "metadata": {},
   "source": [
    "### Let's run the pPXF to derive the velocity dispersions \n",
    "### 속도 분산을 구해보자"
   ]
  },
  {
   "cell_type": "code",
   "execution_count": 81,
   "metadata": {},
   "outputs": [],
   "source": [
    "# HW #1 \n",
    "# Let's try to run the pPXF to compute the redshifts and velocity dispersions for the remaining F2 galaxies \n",
    "# Compare your results with the Portsmouth measurements.\n",
    "# 나머지 F2 은하의 적색편이와 속도 분산을 계산하기 위해 pPXF를 실행해 보겠습니다.\n",
    "# 결과를 포츠머스 측정값과 비교합니다."
   ]
  },
  {
   "cell_type": "code",
   "execution_count": 84,
   "metadata": {},
   "outputs": [
    {
     "name": "stdout",
     "output_type": "stream",
     "text": [
      "spec-1938-53379-0110.fits processing start\n",
      "\n",
      " Best Fit:       Vel     sigma        h3        h4\n",
      " comp.  0:      -287        69    -0.033     0.036\n",
      "chi2/DOF: 47.68; DOF: 3599; degree = 20; mdegree = 0\n",
      "method = capfit; Jac calls: 8; Func calls: 46; Status: 2\n",
      "linear_method = lsq_box; Nonzero Templates (>0.1%): 6/150\n",
      "[-287.3738257012113, 68.59758918132465, -0.033080628604325396,\n",
      " 0.036391966673299206]\n",
      "spec-1937-53388-0453.fits processing start\n",
      "\n",
      " Best Fit:       Vel     sigma        h3        h4\n",
      " comp.  0:      2000       626     0.300     0.300\n",
      "chi2/DOF: 11.90; DOF: 3600; degree = 20; mdegree = 0\n",
      "method = capfit; Jac calls: 25; Func calls: 127; Status: 2\n",
      "linear_method = lsq_box; Nonzero Templates (>0.1%): 2/150\n",
      "[1999.9999999999998, 626.2857260776346, 0.3, 0.3]\n",
      "spec-1938-53379-0053.fits processing start\n",
      "\n",
      " Best Fit:       Vel     sigma        h3        h4\n",
      " comp.  0:        55       201     0.001     0.037\n",
      "chi2/DOF: 3.235; DOF: 3595; degree = 20; mdegree = 0\n",
      "method = capfit; Jac calls: 3; Func calls: 17; Status: 2\n",
      "linear_method = lsq_box; Nonzero Templates (>0.1%): 6/150\n",
      "[54.93854516183756, 200.63148816466312, 0.0011649257839011842,\n",
      " 0.03662879870294441]\n",
      "spec-1937-53388-0577.fits processing start\n",
      "\n",
      " Best Fit:       Vel     sigma        h3        h4\n",
      " comp.  0:       173       189    -0.003     0.059\n",
      "chi2/DOF: 2.556; DOF: 3583; degree = 20; mdegree = 0\n",
      "method = capfit; Jac calls: 4; Func calls: 22; Status: 2\n",
      "linear_method = lsq_box; Nonzero Templates (>0.1%): 4/150\n",
      "[172.60787891627206, 189.17152182439995, -0.0028510245940424755,\n",
      " 0.05865095947639672]\n"
     ]
    }
   ],
   "source": [
    "import os\n",
    "\n",
    "# FITS 파일 목록\n",
    "file_list = [\n",
    "    'spec-1938-53379-0110.fits',\n",
    "    'spec-1937-53388-0453.fits',\n",
    "    'spec-1938-53379-0053.fits',\n",
    "    'spec-1937-53388-0577.fits'\n",
    "]\n",
    "\n",
    "# 출력을 저장할 파일 경로\n",
    "output_file = 'output_log.txt'\n",
    "\n",
    "# 파일을 열어 쓰기 모드로 엽니다.\n",
    "with open(output_file, 'w') as f:\n",
    "        \n",
    "        for file in file_list:\n",
    "                print(f\"{file} processing start\\n\")\n",
    "                f.write(\"----------------------------------------------------------------\\n\")\n",
    "                f.write(f\"{file} processing start\\n\")\n",
    "                f.write(f\"{file} processing start\\n\")\n",
    "                f.write(f\"{file} processing start\\n\")\n",
    "                ## READ the spectrum\n",
    "                name = os.path.basename(file)\n",
    "                filename_without_extension = os.path.splitext(name)[0]\n",
    "                spe      = fits.open(spedir + file)\n",
    "                spedata  = spe[1].data\n",
    "                spehdr   = spe[1].header\n",
    "                spez     = 0.06280\n",
    "                spezerr  = 4.39565e-5\n",
    "\n",
    "                lnwave   = spedata['loglam'] * np.log(10.) # Convert lg --> ln\n",
    "                wave     = np.exp(lnwave)                   # Wavelength in Angstroms\n",
    "\n",
    "                flux =  spedata['flux']\n",
    "                nflux = flux / np.median(flux) # Normalize spectrum to avoid numerical issues\n",
    "                sflux = savgol_filter(nflux, window_length, polyorder) # Smoothed spectrum\n",
    "\n",
    "                ## Define the page\n",
    "                #fig, axs = plt.subplots(1, 1, figsize=(12, 6))\n",
    "                #fig.subplots_adjust(left=LM, right=RM, bottom=BM, top=TM) \n",
    "\n",
    "                #axs.set_xlabel('rest-frame wavelength')\n",
    "                #axs.set_ylabel('Flux')\n",
    "                #axs.set_xlim(3500., 7000.)\n",
    "\n",
    "                ## Define Axes Styles\n",
    "                #axs.plot(wave, nflux, c='k')\n",
    "                #axs.plot(wave, sflux, c='r')\n",
    "                #axs.set_title(f'Spectrum Analysis for {filename_without_extension}')\n",
    "                #plt.savefig(f\"{filename_without_extension}.png\", format='png', dpi=300)\n",
    "\n",
    "                \n",
    "                ## Define pPXF models\n",
    "                sps_name = 'emiles' # 'fsps', 'galaxev', 'xsl' - choose the model you want\n",
    "\n",
    "                ppxf_dir = Path(lib.__file__).parent\n",
    "                basename = f\"spectra_{sps_name}_9.0.npz\"\n",
    "\n",
    "                filename = ppxf_dir / 'sps_models' / basename\n",
    "                wave_range_temp = [3500., 10000.]\n",
    "\n",
    "\n",
    "                # Manipulate the spectrum and wavelengths\n",
    "                dlnwave  = (lnwave[-1] - lnwave[0]) / (lnwave.size - 1)   # Compute the Delta Lambda / Use full lam range for accuracy\n",
    "                velscale = c * dlnwave                                    # Velocity scale in km/s per pixel (eq.8 of Cappellari 2017)\n",
    "                noise    = np.full_like(nflux, 0.0166)                    # Assume constant noise per pixel here - JS, where does this 0.0166 comes from?\n",
    "\n",
    "                dwave    = np.gradient(wave)\n",
    "                wdisp    = spedata['wdisp']                              # Intrinsic dispersion of every pixel, in pixels units, wavelength dispersion in pixel=dloglam units\n",
    "                fwhm     = 2.3555 * wdisp * dwave\n",
    "\n",
    "                ## Shift toward the rest-frame\n",
    "                wave_res = wave / (1. + spez) # _res stands for rest-frame\n",
    "                fwhm_res = fwhm / (1. + spez)  \n",
    "\n",
    "                # Construct the SPS model \n",
    "                fwhm_gal   = {\"lam\" : wave_res, \"fwhm\": fwhm_res}\n",
    "                sps        = lib.sps_lib(filename, velscale, fwhm_gal, wave_range=wave_range_temp)\n",
    "                goodpixels = util.determine_goodpixels(np.log(wave_res), wave_range_temp)\n",
    "                \n",
    "                # Actual pPXF fitting\n",
    "                vel        = 0.          # Since we already shifted to the rest-frame\n",
    "                start      = [vel, 200.] # (km/s), starting guess for [V, sigma]\n",
    "                time       = clock()   \n",
    "                #print(redshift, np.min(lam_gal), np.max(lam_gal), len(galaxy), len(sps.templates))\n",
    "\n",
    "                # Run pPXF\n",
    "                pp = ppxf(sps.templates, nflux, noise, velscale, start,\n",
    "                        goodpixels=goodpixels, plot=False, moments=4, trig=1,\n",
    "                        degree=20, lam=wave_res, lam_temp=sps.lam_temp, quiet=False)\n",
    "                \n",
    "                result_str = np.array2string(pp.sol, separator=', ', formatter={'float': lambda x: str(x)})\n",
    "                print(result_str)  # 출력: '[1, 2, 3, 4, 5]'\n",
    "\n",
    "                f.write('Elapsed time in pPXF: %.2f s' % (clock() - time) + \"\\n\")\n",
    "                f.write(result_str)\n",
    "                f.write(\"\\n\")  # 각 파일 처리 사이에 빈 줄 추가\n",
    "\n",
    "                errors = pp.error*np.sqrt(pp.chi2)  # Assume the fit is good chi2/DOF=1\n",
    "                redshift_fit = (1 + spez)*np.exp(pp.sol[0]/c) - 1     # eq. (5c) C23\n",
    "                redshift_err = (1 + redshift_fit)*errors[0]/c               # eq. (5d) C23\n",
    "\n",
    "                #f.write(\"Formal errors:\\n\")\n",
    "                #f.write(\"     dV    dsigma   dh3      dh4\\n\")\n",
    "                #f.write(\"\".join(\"%8.2g\" % f for f in errors))\n",
    "                #f.write(\"\\n\")\n",
    "                prec = int(1 - np.floor(np.log10(redshift_err)))  # two digits of uncertainty\n",
    "                f.write(f\"Best-fitting redshift z = {redshift_fit:#.{prec}f} \\n\"\n",
    "                        f\"+/- {redshift_err:#.{prec}f}\\n\")\n",
    "                \n",
    "                f.write(f\"{file} processing done.\\n\")\n",
    "                f.write(f\"{file} processing done.\\n\")\n",
    "                f.write(f\"{file} processing done.\\n\")\n",
    "                f.write(\"\\n\")  # 각 파일 처리 사이에 빈 줄 추가"
   ]
  }
 ],
 "metadata": {
  "kernelspec": {
   "display_name": "Python 3",
   "language": "python",
   "name": "python3"
  },
  "language_info": {
   "codemirror_mode": {
    "name": "ipython",
    "version": 3
   },
   "file_extension": ".py",
   "mimetype": "text/x-python",
   "name": "python",
   "nbconvert_exporter": "python",
   "pygments_lexer": "ipython3",
   "version": "3.11.9"
  }
 },
 "nbformat": 4,
 "nbformat_minor": 2
}
